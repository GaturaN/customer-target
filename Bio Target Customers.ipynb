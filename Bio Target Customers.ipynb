{
 "cells": [
  {
   "cell_type": "code",
   "execution_count": 1,
   "metadata": {},
   "outputs": [],
   "source": [
    "#Loading the necessary libraries\n",
    "\n",
    "import pandas as pd\n",
    "import numpy as np\n",
    "import matplotlib.pyplot as plt\n",
    "\n",
    "\n",
    "%matplotlib inline"
   ]
  },
  {
   "cell_type": "code",
   "execution_count": 2,
   "metadata": {},
   "outputs": [],
   "source": [
    "#Loading the necessary document on the jupyter notebook for analysis\n",
    "\n",
    "df = pd.read_excel('C:/Users/ADMIN/Desktop/BULKBOX WORK/prediction-model/Customer data(1).xlsx')"
   ]
  },
  {
   "cell_type": "code",
   "execution_count": 3,
   "metadata": {},
   "outputs": [
    {
     "data": {
      "text/plain": [
       "(22800, 4)"
      ]
     },
     "execution_count": 3,
     "metadata": {},
     "output_type": "execute_result"
    }
   ],
   "source": [
    "#Checking the overall shape of the data frame\n",
    "\n",
    "df.shape  #22800 rows and 4 columns"
   ]
  },
  {
   "cell_type": "code",
   "execution_count": 4,
   "metadata": {},
   "outputs": [
    {
     "name": "stdout",
     "output_type": "stream",
     "text": [
      "<class 'pandas.core.frame.DataFrame'>\n",
      "RangeIndex: 22800 entries, 0 to 22799\n",
      "Data columns (total 4 columns):\n",
      " #   Column                Non-Null Count  Dtype         \n",
      "---  ------                --------------  -----         \n",
      " 0   Document Date         22481 non-null  datetime64[ns]\n",
      " 1   Customer/Vendor Name  22481 non-null  object        \n",
      " 2   Item Name             22479 non-null  object        \n",
      " 3   Quantity              22481 non-null  float64       \n",
      "dtypes: datetime64[ns](1), float64(1), object(2)\n",
      "memory usage: 712.6+ KB\n"
     ]
    }
   ],
   "source": [
    "# Checks the data types and helps identify the empty cells\n",
    "\n",
    "df.info()\n",
    "\n",
    "# Document date has 319 empty cells\n",
    "# Customer name has 319 empty cells\n",
    "# Item name has 321 empty cells\n",
    "# Quantity has 319 empty cells"
   ]
  },
  {
   "cell_type": "markdown",
   "metadata": {},
   "source": [
    "Dropping the Empty Cells SHould have no effects on the overall data."
   ]
  },
  {
   "cell_type": "code",
   "execution_count": 5,
   "metadata": {},
   "outputs": [
    {
     "data": {
      "text/plain": [
       "Index(['Document Date', 'Customer/Vendor Name', 'Item Name', 'Quantity'], dtype='object')"
      ]
     },
     "execution_count": 5,
     "metadata": {},
     "output_type": "execute_result"
    }
   ],
   "source": [
    "# Column names of the data set\n",
    "\n",
    "df.columns"
   ]
  },
  {
   "cell_type": "code",
   "execution_count": 6,
   "metadata": {},
   "outputs": [
    {
     "data": {
      "text/html": [
       "<div>\n",
       "<style scoped>\n",
       "    .dataframe tbody tr th:only-of-type {\n",
       "        vertical-align: middle;\n",
       "    }\n",
       "\n",
       "    .dataframe tbody tr th {\n",
       "        vertical-align: top;\n",
       "    }\n",
       "\n",
       "    .dataframe thead th {\n",
       "        text-align: right;\n",
       "    }\n",
       "</style>\n",
       "<table border=\"1\" class=\"dataframe\">\n",
       "  <thead>\n",
       "    <tr style=\"text-align: right;\">\n",
       "      <th></th>\n",
       "      <th>Quantity</th>\n",
       "    </tr>\n",
       "  </thead>\n",
       "  <tbody>\n",
       "    <tr>\n",
       "      <th>count</th>\n",
       "      <td>22481.000000</td>\n",
       "    </tr>\n",
       "    <tr>\n",
       "      <th>mean</th>\n",
       "      <td>12.468422</td>\n",
       "    </tr>\n",
       "    <tr>\n",
       "      <th>std</th>\n",
       "      <td>334.618898</td>\n",
       "    </tr>\n",
       "    <tr>\n",
       "      <th>min</th>\n",
       "      <td>0.000000</td>\n",
       "    </tr>\n",
       "    <tr>\n",
       "      <th>25%</th>\n",
       "      <td>2.000000</td>\n",
       "    </tr>\n",
       "    <tr>\n",
       "      <th>50%</th>\n",
       "      <td>3.000000</td>\n",
       "    </tr>\n",
       "    <tr>\n",
       "      <th>75%</th>\n",
       "      <td>7.000000</td>\n",
       "    </tr>\n",
       "    <tr>\n",
       "      <th>max</th>\n",
       "      <td>39493.950000</td>\n",
       "    </tr>\n",
       "  </tbody>\n",
       "</table>\n",
       "</div>"
      ],
      "text/plain": [
       "           Quantity\n",
       "count  22481.000000\n",
       "mean      12.468422\n",
       "std      334.618898\n",
       "min        0.000000\n",
       "25%        2.000000\n",
       "50%        3.000000\n",
       "75%        7.000000\n",
       "max    39493.950000"
      ]
     },
     "execution_count": 6,
     "metadata": {},
     "output_type": "execute_result"
    }
   ],
   "source": [
    "# .describe analyzez the columns of data types int or float.\n",
    "# Explains the dispersion of the data.\n",
    "\n",
    "df.describe()"
   ]
  },
  {
   "cell_type": "markdown",
   "metadata": {},
   "source": [
    "**CLEANING THE DATA**"
   ]
  },
  {
   "cell_type": "code",
   "execution_count": 7,
   "metadata": {},
   "outputs": [
    {
     "data": {
      "text/plain": [
       "Document Date           319\n",
       "Customer/Vendor Name    319\n",
       "Item Name               321\n",
       "Quantity                319\n",
       "dtype: int64"
      ]
     },
     "execution_count": 7,
     "metadata": {},
     "output_type": "execute_result"
    }
   ],
   "source": [
    "# Identifying Missing Values\n",
    "\n",
    "# df.isna()\n",
    "df.isna().sum()"
   ]
  },
  {
   "cell_type": "code",
   "execution_count": 8,
   "metadata": {},
   "outputs": [],
   "source": [
    "# Handling the missing values by dropping them\n",
    "# Making the drop permanent by using inplace=True\n",
    "\n",
    "df.dropna(inplace=True)"
   ]
  },
  {
   "cell_type": "code",
   "execution_count": 9,
   "metadata": {},
   "outputs": [
    {
     "name": "stdout",
     "output_type": "stream",
     "text": [
      "<class 'pandas.core.frame.DataFrame'>\n",
      "Int64Index: 22479 entries, 16 to 22799\n",
      "Data columns (total 4 columns):\n",
      " #   Column                Non-Null Count  Dtype         \n",
      "---  ------                --------------  -----         \n",
      " 0   Document Date         22479 non-null  datetime64[ns]\n",
      " 1   Customer/Vendor Name  22479 non-null  object        \n",
      " 2   Item Name             22479 non-null  object        \n",
      " 3   Quantity              22479 non-null  float64       \n",
      "dtypes: datetime64[ns](1), float64(1), object(2)\n",
      "memory usage: 878.1+ KB\n"
     ]
    }
   ],
   "source": [
    "# Confirming the Drop of missing cells\n",
    "\n",
    "df.info()"
   ]
  },
  {
   "cell_type": "code",
   "execution_count": 10,
   "metadata": {},
   "outputs": [
    {
     "data": {
      "text/html": [
       "<div>\n",
       "<style scoped>\n",
       "    .dataframe tbody tr th:only-of-type {\n",
       "        vertical-align: middle;\n",
       "    }\n",
       "\n",
       "    .dataframe tbody tr th {\n",
       "        vertical-align: top;\n",
       "    }\n",
       "\n",
       "    .dataframe thead th {\n",
       "        text-align: right;\n",
       "    }\n",
       "</style>\n",
       "<table border=\"1\" class=\"dataframe\">\n",
       "  <thead>\n",
       "    <tr style=\"text-align: right;\">\n",
       "      <th></th>\n",
       "      <th>Document Date</th>\n",
       "      <th>Customer/Vendor Name</th>\n",
       "      <th>Item Name</th>\n",
       "      <th>Quantity</th>\n",
       "    </tr>\n",
       "  </thead>\n",
       "  <tbody>\n",
       "    <tr>\n",
       "      <th>16</th>\n",
       "      <td>2023-05-16</td>\n",
       "      <td>BALLOON SAFARIS LTD</td>\n",
       "      <td>BIO YOGHURT STRAWBERRY 90ML X 12</td>\n",
       "      <td>2.0</td>\n",
       "    </tr>\n",
       "    <tr>\n",
       "      <th>17</th>\n",
       "      <td>2023-05-16</td>\n",
       "      <td>BALLOON SAFARIS LTD</td>\n",
       "      <td>BIO YOGHURT TROPICAL MIX 90ML X 12</td>\n",
       "      <td>2.0</td>\n",
       "    </tr>\n",
       "    <tr>\n",
       "      <th>18</th>\n",
       "      <td>2023-05-16</td>\n",
       "      <td>BALLOON SAFARIS LTD</td>\n",
       "      <td>BIO YOGHURT VANILLA 90ML X 12</td>\n",
       "      <td>2.0</td>\n",
       "    </tr>\n",
       "    <tr>\n",
       "      <th>19</th>\n",
       "      <td>2023-05-16</td>\n",
       "      <td>BALLOON SAFARIS LTD</td>\n",
       "      <td>BIO YOGHURT BERRYCOCKTAIL 90ML X 12</td>\n",
       "      <td>2.0</td>\n",
       "    </tr>\n",
       "    <tr>\n",
       "      <th>20</th>\n",
       "      <td>2023-05-16</td>\n",
       "      <td>BALLOON SAFARIS LTD</td>\n",
       "      <td>BIO YOGHURT PEACH 90ML X 12</td>\n",
       "      <td>2.0</td>\n",
       "    </tr>\n",
       "    <tr>\n",
       "      <th>21</th>\n",
       "      <td>2023-05-16</td>\n",
       "      <td>BALLOON SAFARIS LTD</td>\n",
       "      <td>MC WILD BUSH HONEY 20GX100</td>\n",
       "      <td>2.0</td>\n",
       "    </tr>\n",
       "    <tr>\n",
       "      <th>22</th>\n",
       "      <td>2023-01-04</td>\n",
       "      <td>BALLOON SAFARIS LTD</td>\n",
       "      <td>BIO YOGHURT VANILLA 90ML X 12</td>\n",
       "      <td>3.0</td>\n",
       "    </tr>\n",
       "    <tr>\n",
       "      <th>23</th>\n",
       "      <td>2023-01-04</td>\n",
       "      <td>BALLOON SAFARIS LTD</td>\n",
       "      <td>BIO YOGHURT STRAWBERRY 90ML X 12</td>\n",
       "      <td>3.0</td>\n",
       "    </tr>\n",
       "    <tr>\n",
       "      <th>24</th>\n",
       "      <td>2023-01-04</td>\n",
       "      <td>BALLOON SAFARIS LTD</td>\n",
       "      <td>BIO YOGHURT TROPICAL MIX 90ML X 12</td>\n",
       "      <td>2.0</td>\n",
       "    </tr>\n",
       "    <tr>\n",
       "      <th>25</th>\n",
       "      <td>2023-01-04</td>\n",
       "      <td>BALLOON SAFARIS LTD</td>\n",
       "      <td>BIO YOGHURT MANGO 90ML X 12</td>\n",
       "      <td>2.0</td>\n",
       "    </tr>\n",
       "  </tbody>\n",
       "</table>\n",
       "</div>"
      ],
      "text/plain": [
       "   Document Date Customer/Vendor Name                            Item Name  \\\n",
       "16    2023-05-16  BALLOON SAFARIS LTD     BIO YOGHURT STRAWBERRY 90ML X 12   \n",
       "17    2023-05-16  BALLOON SAFARIS LTD   BIO YOGHURT TROPICAL MIX 90ML X 12   \n",
       "18    2023-05-16  BALLOON SAFARIS LTD        BIO YOGHURT VANILLA 90ML X 12   \n",
       "19    2023-05-16  BALLOON SAFARIS LTD  BIO YOGHURT BERRYCOCKTAIL 90ML X 12   \n",
       "20    2023-05-16  BALLOON SAFARIS LTD          BIO YOGHURT PEACH 90ML X 12   \n",
       "21    2023-05-16  BALLOON SAFARIS LTD           MC WILD BUSH HONEY 20GX100   \n",
       "22    2023-01-04  BALLOON SAFARIS LTD        BIO YOGHURT VANILLA 90ML X 12   \n",
       "23    2023-01-04  BALLOON SAFARIS LTD     BIO YOGHURT STRAWBERRY 90ML X 12   \n",
       "24    2023-01-04  BALLOON SAFARIS LTD   BIO YOGHURT TROPICAL MIX 90ML X 12   \n",
       "25    2023-01-04  BALLOON SAFARIS LTD          BIO YOGHURT MANGO 90ML X 12   \n",
       "\n",
       "    Quantity  \n",
       "16       2.0  \n",
       "17       2.0  \n",
       "18       2.0  \n",
       "19       2.0  \n",
       "20       2.0  \n",
       "21       2.0  \n",
       "22       3.0  \n",
       "23       3.0  \n",
       "24       2.0  \n",
       "25       2.0  "
      ]
     },
     "execution_count": 10,
     "metadata": {},
     "output_type": "execute_result"
    }
   ],
   "source": [
    "# Looking at the first 10 rows of the data\n",
    "\n",
    "df.head(10)"
   ]
  },
  {
   "cell_type": "markdown",
   "metadata": {},
   "source": [
    "**GETTING THE DAYS OF THE WEEK WITH THE MOST ORDERS**"
   ]
  },
  {
   "cell_type": "code",
   "execution_count": 11,
   "metadata": {},
   "outputs": [],
   "source": [
    "from datetime import datetime"
   ]
  },
  {
   "cell_type": "code",
   "execution_count": 12,
   "metadata": {},
   "outputs": [],
   "source": [
    "#Converting the \"Document Date\" column to datetime format\n",
    "\n",
    "df['Document Date'] = pd.to_datetime(df['Document Date'], dayfirst=True)"
   ]
  },
  {
   "cell_type": "code",
   "execution_count": 13,
   "metadata": {},
   "outputs": [],
   "source": [
    "#Extracting the day of the week into a new column\n",
    "\n",
    "df['Day of Week'] = df['Document Date'].dt.day_name()"
   ]
  },
  {
   "cell_type": "code",
   "execution_count": 14,
   "metadata": {},
   "outputs": [
    {
     "data": {
      "text/html": [
       "<div>\n",
       "<style scoped>\n",
       "    .dataframe tbody tr th:only-of-type {\n",
       "        vertical-align: middle;\n",
       "    }\n",
       "\n",
       "    .dataframe tbody tr th {\n",
       "        vertical-align: top;\n",
       "    }\n",
       "\n",
       "    .dataframe thead th {\n",
       "        text-align: right;\n",
       "    }\n",
       "</style>\n",
       "<table border=\"1\" class=\"dataframe\">\n",
       "  <thead>\n",
       "    <tr style=\"text-align: right;\">\n",
       "      <th></th>\n",
       "      <th>Document Date</th>\n",
       "      <th>Customer/Vendor Name</th>\n",
       "      <th>Item Name</th>\n",
       "      <th>Quantity</th>\n",
       "      <th>Day of Week</th>\n",
       "    </tr>\n",
       "  </thead>\n",
       "  <tbody>\n",
       "    <tr>\n",
       "      <th>16</th>\n",
       "      <td>2023-05-16</td>\n",
       "      <td>BALLOON SAFARIS LTD</td>\n",
       "      <td>BIO YOGHURT STRAWBERRY 90ML X 12</td>\n",
       "      <td>2.0</td>\n",
       "      <td>Tuesday</td>\n",
       "    </tr>\n",
       "    <tr>\n",
       "      <th>17</th>\n",
       "      <td>2023-05-16</td>\n",
       "      <td>BALLOON SAFARIS LTD</td>\n",
       "      <td>BIO YOGHURT TROPICAL MIX 90ML X 12</td>\n",
       "      <td>2.0</td>\n",
       "      <td>Tuesday</td>\n",
       "    </tr>\n",
       "    <tr>\n",
       "      <th>18</th>\n",
       "      <td>2023-05-16</td>\n",
       "      <td>BALLOON SAFARIS LTD</td>\n",
       "      <td>BIO YOGHURT VANILLA 90ML X 12</td>\n",
       "      <td>2.0</td>\n",
       "      <td>Tuesday</td>\n",
       "    </tr>\n",
       "    <tr>\n",
       "      <th>19</th>\n",
       "      <td>2023-05-16</td>\n",
       "      <td>BALLOON SAFARIS LTD</td>\n",
       "      <td>BIO YOGHURT BERRYCOCKTAIL 90ML X 12</td>\n",
       "      <td>2.0</td>\n",
       "      <td>Tuesday</td>\n",
       "    </tr>\n",
       "    <tr>\n",
       "      <th>20</th>\n",
       "      <td>2023-05-16</td>\n",
       "      <td>BALLOON SAFARIS LTD</td>\n",
       "      <td>BIO YOGHURT PEACH 90ML X 12</td>\n",
       "      <td>2.0</td>\n",
       "      <td>Tuesday</td>\n",
       "    </tr>\n",
       "  </tbody>\n",
       "</table>\n",
       "</div>"
      ],
      "text/plain": [
       "   Document Date Customer/Vendor Name                            Item Name  \\\n",
       "16    2023-05-16  BALLOON SAFARIS LTD     BIO YOGHURT STRAWBERRY 90ML X 12   \n",
       "17    2023-05-16  BALLOON SAFARIS LTD   BIO YOGHURT TROPICAL MIX 90ML X 12   \n",
       "18    2023-05-16  BALLOON SAFARIS LTD        BIO YOGHURT VANILLA 90ML X 12   \n",
       "19    2023-05-16  BALLOON SAFARIS LTD  BIO YOGHURT BERRYCOCKTAIL 90ML X 12   \n",
       "20    2023-05-16  BALLOON SAFARIS LTD          BIO YOGHURT PEACH 90ML X 12   \n",
       "\n",
       "    Quantity Day of Week  \n",
       "16       2.0     Tuesday  \n",
       "17       2.0     Tuesday  \n",
       "18       2.0     Tuesday  \n",
       "19       2.0     Tuesday  \n",
       "20       2.0     Tuesday  "
      ]
     },
     "execution_count": 14,
     "metadata": {},
     "output_type": "execute_result"
    }
   ],
   "source": [
    "df.head()"
   ]
  },
  {
   "cell_type": "code",
   "execution_count": 15,
   "metadata": {},
   "outputs": [],
   "source": [
    "#Grouping the data by the day of the week and count the number of orders\n",
    "\n",
    "daily_orders = df.groupby('Day of Week')['Quantity'].sum().reset_index()"
   ]
  },
  {
   "cell_type": "code",
   "execution_count": 16,
   "metadata": {},
   "outputs": [],
   "source": [
    "#Sorting the results in descending order to find the days with the most orders\n",
    "\n",
    "daily_orders = daily_orders.sort_values('Quantity', ascending=False)"
   ]
  },
  {
   "cell_type": "code",
   "execution_count": 17,
   "metadata": {},
   "outputs": [],
   "source": [
    "#Retrieving the days with the highest number of orders\n",
    "\n",
    "most_orders = daily_orders.loc[daily_orders['Quantity'] == daily_orders['Quantity'].max(), 'Day of Week']"
   ]
  },
  {
   "cell_type": "code",
   "execution_count": 18,
   "metadata": {},
   "outputs": [
    {
     "name": "stdout",
     "output_type": "stream",
     "text": [
      "Day with the most orders: Friday\n"
     ]
    }
   ],
   "source": [
    "print(\"Day with the most orders:\", ', '.join(most_orders))"
   ]
  },
  {
   "cell_type": "code",
   "execution_count": 19,
   "metadata": {},
   "outputs": [
    {
     "data": {
      "image/png": "[encoded data removed]",
      "text/plain": [
       "<Figure size 432x288 with 1 Axes>"
      ]
     },
     "metadata": {
      "needs_background": "light"
     },
     "output_type": "display_data"
    }
   ],
   "source": [
    "#Plotting the graph of the days per week and the orders\n",
    "\n",
    "plt.bar(daily_orders['Day of Week'], daily_orders['Quantity'])\n",
    "plt.xlabel('Day of Week')\n",
    "plt.ylabel('Orders')\n",
    "plt.title('Orders per Day of Week')\n",
    "plt.xticks(rotation=45)\n",
    "plt.show()\n"
   ]
  },
  {
   "cell_type": "markdown",
   "metadata": {},
   "source": [
    "**TOP 3 PRODUCTS PER WEEK**"
   ]
  },
  {
   "cell_type": "code",
   "execution_count": 20,
   "metadata": {},
   "outputs": [],
   "source": [
    "#Extracting the week number into a new column\n",
    "#The dt.isocalendar().week is used to extract the week number from the date\n",
    "\n",
    "df['Week Number'] = df['Document Date'].dt.isocalendar().week"
   ]
  },
  {
   "cell_type": "code",
   "execution_count": 21,
   "metadata": {},
   "outputs": [
    {
     "data": {
      "text/html": [
       "<div>\n",
       "<style scoped>\n",
       "    .dataframe tbody tr th:only-of-type {\n",
       "        vertical-align: middle;\n",
       "    }\n",
       "\n",
       "    .dataframe tbody tr th {\n",
       "        vertical-align: top;\n",
       "    }\n",
       "\n",
       "    .dataframe thead th {\n",
       "        text-align: right;\n",
       "    }\n",
       "</style>\n",
       "<table border=\"1\" class=\"dataframe\">\n",
       "  <thead>\n",
       "    <tr style=\"text-align: right;\">\n",
       "      <th></th>\n",
       "      <th>Document Date</th>\n",
       "      <th>Customer/Vendor Name</th>\n",
       "      <th>Item Name</th>\n",
       "      <th>Quantity</th>\n",
       "      <th>Day of Week</th>\n",
       "      <th>Week Number</th>\n",
       "    </tr>\n",
       "  </thead>\n",
       "  <tbody>\n",
       "    <tr>\n",
       "      <th>22795</th>\n",
       "      <td>2023-04-20</td>\n",
       "      <td>SERENA NAIROBI</td>\n",
       "      <td>BIO YOGHURT MANGO 90ML X 12</td>\n",
       "      <td>5.0</td>\n",
       "      <td>Thursday</td>\n",
       "      <td>16</td>\n",
       "    </tr>\n",
       "    <tr>\n",
       "      <th>22796</th>\n",
       "      <td>2023-04-20</td>\n",
       "      <td>SERENA NAIROBI</td>\n",
       "      <td>BIO YOGHURT PEACH 90ML X 12</td>\n",
       "      <td>5.0</td>\n",
       "      <td>Thursday</td>\n",
       "      <td>16</td>\n",
       "    </tr>\n",
       "    <tr>\n",
       "      <th>22797</th>\n",
       "      <td>2023-02-21</td>\n",
       "      <td>SERENA NAIROBI</td>\n",
       "      <td>BIO YOGHURT NATURE-PLAIN 5 LITRES X 1</td>\n",
       "      <td>1.0</td>\n",
       "      <td>Tuesday</td>\n",
       "      <td>8</td>\n",
       "    </tr>\n",
       "    <tr>\n",
       "      <th>22798</th>\n",
       "      <td>2023-06-02</td>\n",
       "      <td>SERENA NAIROBI</td>\n",
       "      <td>BIO YOGHURT VANILLA 90ML X 12</td>\n",
       "      <td>1.0</td>\n",
       "      <td>Friday</td>\n",
       "      <td>22</td>\n",
       "    </tr>\n",
       "    <tr>\n",
       "      <th>22799</th>\n",
       "      <td>2023-05-11</td>\n",
       "      <td>SERENA NAIROBI</td>\n",
       "      <td>BIO YOGHURT NATURE- PLAIN 90ML X 12</td>\n",
       "      <td>15.0</td>\n",
       "      <td>Thursday</td>\n",
       "      <td>19</td>\n",
       "    </tr>\n",
       "  </tbody>\n",
       "</table>\n",
       "</div>"
      ],
      "text/plain": [
       "      Document Date Customer/Vendor Name  \\\n",
       "22795    2023-04-20       SERENA NAIROBI   \n",
       "22796    2023-04-20       SERENA NAIROBI   \n",
       "22797    2023-02-21       SERENA NAIROBI   \n",
       "22798    2023-06-02       SERENA NAIROBI   \n",
       "22799    2023-05-11       SERENA NAIROBI   \n",
       "\n",
       "                                   Item Name  Quantity Day of Week  \\\n",
       "22795            BIO YOGHURT MANGO 90ML X 12       5.0    Thursday   \n",
       "22796            BIO YOGHURT PEACH 90ML X 12       5.0    Thursday   \n",
       "22797  BIO YOGHURT NATURE-PLAIN 5 LITRES X 1       1.0     Tuesday   \n",
       "22798          BIO YOGHURT VANILLA 90ML X 12       1.0      Friday   \n",
       "22799    BIO YOGHURT NATURE- PLAIN 90ML X 12      15.0    Thursday   \n",
       "\n",
       "       Week Number  \n",
       "22795           16  \n",
       "22796           16  \n",
       "22797            8  \n",
       "22798           22  \n",
       "22799           19  "
      ]
     },
     "execution_count": 21,
     "metadata": {},
     "output_type": "execute_result"
    }
   ],
   "source": [
    "df.tail()"
   ]
  },
  {
   "cell_type": "code",
   "execution_count": 22,
   "metadata": {},
   "outputs": [],
   "source": [
    "#Grouping the data by week number and product, and calculating the sum of the quantities\n",
    "\n",
    "weekly_orders = df.groupby(['Week Number', 'Item Name'])['Quantity'].sum().reset_index()"
   ]
  },
  {
   "cell_type": "code",
   "execution_count": 23,
   "metadata": {},
   "outputs": [],
   "source": [
    "#Sorting the data by week number and qauntity in descending order\n",
    "\n",
    "weekly_orders =  weekly_orders.sort_values(['Week Number', 'Quantity'], ascending=[True, False])"
   ]
  },
  {
   "cell_type": "code",
   "execution_count": 24,
   "metadata": {},
   "outputs": [],
   "source": [
    "#Creating a new data frame to store the top 3 products per week\n",
    "\n",
    "top_products_per_week = pd.DataFrame(columns=['Week Number', 'Item Name', 'Quantity'])"
   ]
  },
  {
   "cell_type": "code",
   "execution_count": 25,
   "metadata": {},
   "outputs": [
    {
     "data": {
      "text/html": [
       "<div>\n",
       "<style scoped>\n",
       "    .dataframe tbody tr th:only-of-type {\n",
       "        vertical-align: middle;\n",
       "    }\n",
       "\n",
       "    .dataframe tbody tr th {\n",
       "        vertical-align: top;\n",
       "    }\n",
       "\n",
       "    .dataframe thead th {\n",
       "        text-align: right;\n",
       "    }\n",
       "</style>\n",
       "<table border=\"1\" class=\"dataframe\">\n",
       "  <thead>\n",
       "    <tr style=\"text-align: right;\">\n",
       "      <th></th>\n",
       "      <th>Week Number</th>\n",
       "      <th>Item Name</th>\n",
       "      <th>Quantity</th>\n",
       "    </tr>\n",
       "  </thead>\n",
       "  <tbody>\n",
       "  </tbody>\n",
       "</table>\n",
       "</div>"
      ],
      "text/plain": [
       "Empty DataFrame\n",
       "Columns: [Week Number, Item Name, Quantity]\n",
       "Index: []"
      ]
     },
     "execution_count": 25,
     "metadata": {},
     "output_type": "execute_result"
    }
   ],
   "source": [
    "top_products_per_week"
   ]
  },
  {
   "cell_type": "code",
   "execution_count": 26,
   "metadata": {},
   "outputs": [],
   "source": [
    "#Iterating through each week and selecting the top 3 products\n",
    "\n",
    "for week, week_data in weekly_orders.groupby('Week Number'):\n",
    "    top_3_products = week_data.head(3)\n",
    "    top_products_per_week = top_products_per_week.append(top_3_products)"
   ]
  },
  {
   "cell_type": "code",
   "execution_count": 27,
   "metadata": {},
   "outputs": [
    {
     "data": {
      "text/html": [
       "<div>\n",
       "<style scoped>\n",
       "    .dataframe tbody tr th:only-of-type {\n",
       "        vertical-align: middle;\n",
       "    }\n",
       "\n",
       "    .dataframe tbody tr th {\n",
       "        vertical-align: top;\n",
       "    }\n",
       "\n",
       "    .dataframe thead th {\n",
       "        text-align: right;\n",
       "    }\n",
       "</style>\n",
       "<table border=\"1\" class=\"dataframe\">\n",
       "  <thead>\n",
       "    <tr style=\"text-align: right;\">\n",
       "      <th></th>\n",
       "      <th>Week Number</th>\n",
       "      <th>Item Name</th>\n",
       "      <th>Quantity</th>\n",
       "    </tr>\n",
       "  </thead>\n",
       "  <tbody>\n",
       "    <tr>\n",
       "      <th>19</th>\n",
       "      <td>1</td>\n",
       "      <td>BIO FRESH WHOLE MILK 2000ML X 6</td>\n",
       "      <td>2732.0</td>\n",
       "    </tr>\n",
       "    <tr>\n",
       "      <th>25</th>\n",
       "      <td>1</td>\n",
       "      <td>BIO MOZARELLA CHEESE 1KGX1</td>\n",
       "      <td>519.0</td>\n",
       "    </tr>\n",
       "    <tr>\n",
       "      <th>14</th>\n",
       "      <td>1</td>\n",
       "      <td>BIO FRESH SEMI- SKIMMED MILK 20000ML X 1</td>\n",
       "      <td>350.0</td>\n",
       "    </tr>\n",
       "    <tr>\n",
       "      <th>86</th>\n",
       "      <td>2</td>\n",
       "      <td>BIO FRESH WHOLE MILK 2000ML X 6</td>\n",
       "      <td>2709.0</td>\n",
       "    </tr>\n",
       "    <tr>\n",
       "      <th>93</th>\n",
       "      <td>2</td>\n",
       "      <td>BIO MOZARELLA CHEESE 1KGX1</td>\n",
       "      <td>414.0</td>\n",
       "    </tr>\n",
       "  </tbody>\n",
       "</table>\n",
       "</div>"
      ],
      "text/plain": [
       "   Week Number                                 Item Name  Quantity\n",
       "19           1           BIO FRESH WHOLE MILK 2000ML X 6    2732.0\n",
       "25           1                BIO MOZARELLA CHEESE 1KGX1     519.0\n",
       "14           1  BIO FRESH SEMI- SKIMMED MILK 20000ML X 1     350.0\n",
       "86           2           BIO FRESH WHOLE MILK 2000ML X 6    2709.0\n",
       "93           2                BIO MOZARELLA CHEESE 1KGX1     414.0"
      ]
     },
     "execution_count": 27,
     "metadata": {},
     "output_type": "execute_result"
    }
   ],
   "source": [
    "top_products_per_week.head()"
   ]
  },
  {
   "cell_type": "code",
   "execution_count": 28,
   "metadata": {},
   "outputs": [],
   "source": [
    "# pd.set_option('display.max_rows', 10000)"
   ]
  },
  {
   "cell_type": "code",
   "execution_count": 29,
   "metadata": {},
   "outputs": [],
   "source": [
    "# Set the week_number as the index_column\n",
    "\n",
    "top_products_per_week.set_index('Week Number', inplace=True)"
   ]
  },
  {
   "cell_type": "code",
   "execution_count": 30,
   "metadata": {},
   "outputs": [
    {
     "data": {
      "text/html": [
       "<div>\n",
       "<style scoped>\n",
       "    .dataframe tbody tr th:only-of-type {\n",
       "        vertical-align: middle;\n",
       "    }\n",
       "\n",
       "    .dataframe tbody tr th {\n",
       "        vertical-align: top;\n",
       "    }\n",
       "\n",
       "    .dataframe thead th {\n",
       "        text-align: right;\n",
       "    }\n",
       "</style>\n",
       "<table border=\"1\" class=\"dataframe\">\n",
       "  <thead>\n",
       "    <tr style=\"text-align: right;\">\n",
       "      <th></th>\n",
       "      <th>Item Name</th>\n",
       "      <th>Quantity</th>\n",
       "    </tr>\n",
       "    <tr>\n",
       "      <th>Week Number</th>\n",
       "      <th></th>\n",
       "      <th></th>\n",
       "    </tr>\n",
       "  </thead>\n",
       "  <tbody>\n",
       "    <tr>\n",
       "      <th>1</th>\n",
       "      <td>BIO FRESH WHOLE MILK 2000ML X 6</td>\n",
       "      <td>2732.0</td>\n",
       "    </tr>\n",
       "    <tr>\n",
       "      <th>1</th>\n",
       "      <td>BIO MOZARELLA CHEESE 1KGX1</td>\n",
       "      <td>519.0</td>\n",
       "    </tr>\n",
       "    <tr>\n",
       "      <th>1</th>\n",
       "      <td>BIO FRESH SEMI- SKIMMED MILK 20000ML X 1</td>\n",
       "      <td>350.0</td>\n",
       "    </tr>\n",
       "    <tr>\n",
       "      <th>2</th>\n",
       "      <td>BIO FRESH WHOLE MILK 2000ML X 6</td>\n",
       "      <td>2709.0</td>\n",
       "    </tr>\n",
       "    <tr>\n",
       "      <th>2</th>\n",
       "      <td>BIO MOZARELLA CHEESE 1KGX1</td>\n",
       "      <td>414.0</td>\n",
       "    </tr>\n",
       "    <tr>\n",
       "      <th>...</th>\n",
       "      <td>...</td>\n",
       "      <td>...</td>\n",
       "    </tr>\n",
       "    <tr>\n",
       "      <th>23</th>\n",
       "      <td>BIO YOGHURT VANILLA 90ML X 12</td>\n",
       "      <td>240.0</td>\n",
       "    </tr>\n",
       "    <tr>\n",
       "      <th>49</th>\n",
       "      <td>BIO FRESH WHOLE MILK 2000ML X 6</td>\n",
       "      <td>1.0</td>\n",
       "    </tr>\n",
       "    <tr>\n",
       "      <th>52</th>\n",
       "      <td>BIO YOGHURT NATURE-PLAIN 5 LITRES X 1</td>\n",
       "      <td>6.0</td>\n",
       "    </tr>\n",
       "    <tr>\n",
       "      <th>52</th>\n",
       "      <td>BIO YOGHURT VANILLA 5 LITRES X 1</td>\n",
       "      <td>4.0</td>\n",
       "    </tr>\n",
       "    <tr>\n",
       "      <th>52</th>\n",
       "      <td>BIO YOGHURT STRAWBERRY 5 LITRES X 1</td>\n",
       "      <td>3.0</td>\n",
       "    </tr>\n",
       "  </tbody>\n",
       "</table>\n",
       "<p>73 rows × 2 columns</p>\n",
       "</div>"
      ],
      "text/plain": [
       "                                            Item Name  Quantity\n",
       "Week Number                                                    \n",
       "1                     BIO FRESH WHOLE MILK 2000ML X 6    2732.0\n",
       "1                          BIO MOZARELLA CHEESE 1KGX1     519.0\n",
       "1            BIO FRESH SEMI- SKIMMED MILK 20000ML X 1     350.0\n",
       "2                     BIO FRESH WHOLE MILK 2000ML X 6    2709.0\n",
       "2                          BIO MOZARELLA CHEESE 1KGX1     414.0\n",
       "...                                               ...       ...\n",
       "23                      BIO YOGHURT VANILLA 90ML X 12     240.0\n",
       "49                    BIO FRESH WHOLE MILK 2000ML X 6       1.0\n",
       "52              BIO YOGHURT NATURE-PLAIN 5 LITRES X 1       6.0\n",
       "52                   BIO YOGHURT VANILLA 5 LITRES X 1       4.0\n",
       "52                BIO YOGHURT STRAWBERRY 5 LITRES X 1       3.0\n",
       "\n",
       "[73 rows x 2 columns]"
      ]
     },
     "execution_count": 30,
     "metadata": {},
     "output_type": "execute_result"
    }
   ],
   "source": [
    "top_products_per_week"
   ]
  },
  {
   "cell_type": "markdown",
   "metadata": {},
   "source": [
    "**BEST PERFORMING CUSTOMERS**"
   ]
  },
  {
   "cell_type": "code",
   "execution_count": 31,
   "metadata": {},
   "outputs": [],
   "source": [
    "# To get the best performing customers\n",
    "# Grouping the data by customer name and counting the number of orders\n",
    "\n",
    "customer_orders = df.groupby('Customer/Vendor Name').size().reset_index(name='Number of Orders')"
   ]
  },
  {
   "cell_type": "code",
   "execution_count": 32,
   "metadata": {},
   "outputs": [],
   "source": [
    "# Sorting the data by the number of orders in descending order\n",
    "\n",
    "customer_orders = customer_orders.sort_values('Number of Orders', ascending=False)"
   ]
  },
  {
   "cell_type": "code",
   "execution_count": 33,
   "metadata": {},
   "outputs": [
    {
     "data": {
      "text/html": [
       "<div>\n",
       "<style scoped>\n",
       "    .dataframe tbody tr th:only-of-type {\n",
       "        vertical-align: middle;\n",
       "    }\n",
       "\n",
       "    .dataframe tbody tr th {\n",
       "        vertical-align: top;\n",
       "    }\n",
       "\n",
       "    .dataframe thead th {\n",
       "        text-align: right;\n",
       "    }\n",
       "</style>\n",
       "<table border=\"1\" class=\"dataframe\">\n",
       "  <thead>\n",
       "    <tr style=\"text-align: right;\">\n",
       "      <th></th>\n",
       "      <th>Customer/Vendor Name</th>\n",
       "      <th>Number of Orders</th>\n",
       "    </tr>\n",
       "  </thead>\n",
       "  <tbody>\n",
       "    <tr>\n",
       "      <th>102</th>\n",
       "      <td>GREEN SPOON LTD</td>\n",
       "      <td>878</td>\n",
       "    </tr>\n",
       "    <tr>\n",
       "      <th>348</th>\n",
       "      <td>THREE SPEARS LIMITED</td>\n",
       "      <td>633</td>\n",
       "    </tr>\n",
       "    <tr>\n",
       "      <th>168</th>\n",
       "      <td>KRYSTAL ASALI LTD</td>\n",
       "      <td>406</td>\n",
       "    </tr>\n",
       "    <tr>\n",
       "      <th>80</th>\n",
       "      <td>ELGON ROAD DEVELOPMENT LTD</td>\n",
       "      <td>386</td>\n",
       "    </tr>\n",
       "    <tr>\n",
       "      <th>223</th>\n",
       "      <td>NAIROBI JAVA HOUSE LTD</td>\n",
       "      <td>384</td>\n",
       "    </tr>\n",
       "    <tr>\n",
       "      <th>201</th>\n",
       "      <td>MERIDIAN PATISSERIE</td>\n",
       "      <td>377</td>\n",
       "    </tr>\n",
       "    <tr>\n",
       "      <th>53</th>\n",
       "      <td>CHELI &amp; PEACOCK MANAGEMENT LTD</td>\n",
       "      <td>357</td>\n",
       "    </tr>\n",
       "    <tr>\n",
       "      <th>277</th>\n",
       "      <td>SANKARA, NAIROBI</td>\n",
       "      <td>302</td>\n",
       "    </tr>\n",
       "    <tr>\n",
       "      <th>10</th>\n",
       "      <td>AGA KHAN UNIVERSITY HOSPITAL NBI</td>\n",
       "      <td>299</td>\n",
       "    </tr>\n",
       "    <tr>\n",
       "      <th>64</th>\n",
       "      <td>COPTIC HOSPITAL</td>\n",
       "      <td>297</td>\n",
       "    </tr>\n",
       "  </tbody>\n",
       "</table>\n",
       "</div>"
      ],
      "text/plain": [
       "                 Customer/Vendor Name  Number of Orders\n",
       "102                   GREEN SPOON LTD               878\n",
       "348              THREE SPEARS LIMITED               633\n",
       "168                 KRYSTAL ASALI LTD               406\n",
       "80         ELGON ROAD DEVELOPMENT LTD               386\n",
       "223            NAIROBI JAVA HOUSE LTD               384\n",
       "201               MERIDIAN PATISSERIE               377\n",
       "53     CHELI & PEACOCK MANAGEMENT LTD               357\n",
       "277                  SANKARA, NAIROBI               302\n",
       "10   AGA KHAN UNIVERSITY HOSPITAL NBI               299\n",
       "64                    COPTIC HOSPITAL               297"
      ]
     },
     "execution_count": 33,
     "metadata": {},
     "output_type": "execute_result"
    }
   ],
   "source": [
    "customer_orders.head(10)"
   ]
  },
  {
   "cell_type": "code",
   "execution_count": 34,
   "metadata": {},
   "outputs": [],
   "source": [
    "# Calculating the quartiles to get the target customers falling between the 2nd and 4th quartiles\n",
    "\n",
    "q2 = customer_orders['Number of Orders'].quantile(0.25)\n",
    "q4 = customer_orders['Number of Orders'].quantile(0.75)                                                "
   ]
  },
  {
   "cell_type": "code",
   "execution_count": 35,
   "metadata": {},
   "outputs": [],
   "source": [
    "# Filtering the 'customer_orders' dataframe to include only the customers within the 2nd and 4th quartiles\n",
    "\n",
    "target_customers = customer_orders[(customer_orders['Number of Orders'] >= q2) & (customer_orders['Number of Orders'] < q4)]"
   ]
  },
  {
   "cell_type": "code",
   "execution_count": 36,
   "metadata": {},
   "outputs": [
    {
     "data": {
      "text/html": [
       "<div>\n",
       "<style scoped>\n",
       "    .dataframe tbody tr th:only-of-type {\n",
       "        vertical-align: middle;\n",
       "    }\n",
       "\n",
       "    .dataframe tbody tr th {\n",
       "        vertical-align: top;\n",
       "    }\n",
       "\n",
       "    .dataframe thead th {\n",
       "        text-align: right;\n",
       "    }\n",
       "</style>\n",
       "<table border=\"1\" class=\"dataframe\">\n",
       "  <thead>\n",
       "    <tr style=\"text-align: right;\">\n",
       "      <th></th>\n",
       "      <th>Customer/Vendor Name</th>\n",
       "      <th>Number of Orders</th>\n",
       "    </tr>\n",
       "  </thead>\n",
       "  <tbody>\n",
       "    <tr>\n",
       "      <th>353</th>\n",
       "      <td>TRAVELPORT SERVICES (KENYA) LIMITED</td>\n",
       "      <td>74</td>\n",
       "    </tr>\n",
       "    <tr>\n",
       "      <th>30</th>\n",
       "      <td>BIG SQUARE CAFE</td>\n",
       "      <td>73</td>\n",
       "    </tr>\n",
       "    <tr>\n",
       "      <th>103</th>\n",
       "      <td>GREENSTEDS SCHOOL LIMITED</td>\n",
       "      <td>72</td>\n",
       "    </tr>\n",
       "    <tr>\n",
       "      <th>40</th>\n",
       "      <td>BROOKHOUSE SCHOOLS- RUNDA</td>\n",
       "      <td>70</td>\n",
       "    </tr>\n",
       "    <tr>\n",
       "      <th>275</th>\n",
       "      <td>SALTY SQUID LTD</td>\n",
       "      <td>70</td>\n",
       "    </tr>\n",
       "    <tr>\n",
       "      <th>...</th>\n",
       "      <td>...</td>\n",
       "      <td>...</td>\n",
       "    </tr>\n",
       "    <tr>\n",
       "      <th>56</th>\n",
       "      <td>CINNAMON THE FLAVOR OF INDIA - CAPITAL CENTRE</td>\n",
       "      <td>11</td>\n",
       "    </tr>\n",
       "    <tr>\n",
       "      <th>43</th>\n",
       "      <td>BUTTERBEAN LIMITED</td>\n",
       "      <td>11</td>\n",
       "    </tr>\n",
       "    <tr>\n",
       "      <th>37</th>\n",
       "      <td>BRACKENHURST KENYA</td>\n",
       "      <td>11</td>\n",
       "    </tr>\n",
       "    <tr>\n",
       "      <th>254</th>\n",
       "      <td>PIONEER INTERNATIONAL UNIVERSITY</td>\n",
       "      <td>11</td>\n",
       "    </tr>\n",
       "    <tr>\n",
       "      <th>184</th>\n",
       "      <td>MA CUISINE LTD</td>\n",
       "      <td>11</td>\n",
       "    </tr>\n",
       "  </tbody>\n",
       "</table>\n",
       "<p>191 rows × 2 columns</p>\n",
       "</div>"
      ],
      "text/plain": [
       "                              Customer/Vendor Name  Number of Orders\n",
       "353            TRAVELPORT SERVICES (KENYA) LIMITED                74\n",
       "30                                 BIG SQUARE CAFE                73\n",
       "103                      GREENSTEDS SCHOOL LIMITED                72\n",
       "40                       BROOKHOUSE SCHOOLS- RUNDA                70\n",
       "275                                SALTY SQUID LTD                70\n",
       "..                                             ...               ...\n",
       "56   CINNAMON THE FLAVOR OF INDIA - CAPITAL CENTRE                11\n",
       "43                              BUTTERBEAN LIMITED                11\n",
       "37                              BRACKENHURST KENYA                11\n",
       "254               PIONEER INTERNATIONAL UNIVERSITY                11\n",
       "184                                 MA CUISINE LTD                11\n",
       "\n",
       "[191 rows x 2 columns]"
      ]
     },
     "execution_count": 36,
     "metadata": {},
     "output_type": "execute_result"
    }
   ],
   "source": [
    "target_customers"
   ]
  },
  {
   "cell_type": "code",
   "execution_count": 37,
   "metadata": {},
   "outputs": [],
   "source": [
    "# Setting the Customer/Vendor Name column as the index column\n",
    "\n",
    "target_customers.set_index('Customer/Vendor Name', inplace=True)"
   ]
  },
  {
   "cell_type": "code",
   "execution_count": 38,
   "metadata": {},
   "outputs": [
    {
     "data": {
      "text/html": [
       "<div>\n",
       "<style scoped>\n",
       "    .dataframe tbody tr th:only-of-type {\n",
       "        vertical-align: middle;\n",
       "    }\n",
       "\n",
       "    .dataframe tbody tr th {\n",
       "        vertical-align: top;\n",
       "    }\n",
       "\n",
       "    .dataframe thead th {\n",
       "        text-align: right;\n",
       "    }\n",
       "</style>\n",
       "<table border=\"1\" class=\"dataframe\">\n",
       "  <thead>\n",
       "    <tr style=\"text-align: right;\">\n",
       "      <th></th>\n",
       "      <th>Number of Orders</th>\n",
       "    </tr>\n",
       "    <tr>\n",
       "      <th>Customer/Vendor Name</th>\n",
       "      <th></th>\n",
       "    </tr>\n",
       "  </thead>\n",
       "  <tbody>\n",
       "    <tr>\n",
       "      <th>TRAVELPORT SERVICES (KENYA) LIMITED</th>\n",
       "      <td>74</td>\n",
       "    </tr>\n",
       "    <tr>\n",
       "      <th>BIG SQUARE CAFE</th>\n",
       "      <td>73</td>\n",
       "    </tr>\n",
       "    <tr>\n",
       "      <th>GREENSTEDS SCHOOL LIMITED</th>\n",
       "      <td>72</td>\n",
       "    </tr>\n",
       "    <tr>\n",
       "      <th>BROOKHOUSE SCHOOLS- RUNDA</th>\n",
       "      <td>70</td>\n",
       "    </tr>\n",
       "    <tr>\n",
       "      <th>SALTY SQUID LTD</th>\n",
       "      <td>70</td>\n",
       "    </tr>\n",
       "    <tr>\n",
       "      <th>...</th>\n",
       "      <td>...</td>\n",
       "    </tr>\n",
       "    <tr>\n",
       "      <th>CINNAMON THE FLAVOR OF INDIA - CAPITAL CENTRE</th>\n",
       "      <td>11</td>\n",
       "    </tr>\n",
       "    <tr>\n",
       "      <th>BUTTERBEAN LIMITED</th>\n",
       "      <td>11</td>\n",
       "    </tr>\n",
       "    <tr>\n",
       "      <th>BRACKENHURST KENYA</th>\n",
       "      <td>11</td>\n",
       "    </tr>\n",
       "    <tr>\n",
       "      <th>PIONEER INTERNATIONAL UNIVERSITY</th>\n",
       "      <td>11</td>\n",
       "    </tr>\n",
       "    <tr>\n",
       "      <th>MA CUISINE LTD</th>\n",
       "      <td>11</td>\n",
       "    </tr>\n",
       "  </tbody>\n",
       "</table>\n",
       "<p>191 rows × 1 columns</p>\n",
       "</div>"
      ],
      "text/plain": [
       "                                               Number of Orders\n",
       "Customer/Vendor Name                                           \n",
       "TRAVELPORT SERVICES (KENYA) LIMITED                          74\n",
       "BIG SQUARE CAFE                                              73\n",
       "GREENSTEDS SCHOOL LIMITED                                    72\n",
       "BROOKHOUSE SCHOOLS- RUNDA                                    70\n",
       "SALTY SQUID LTD                                              70\n",
       "...                                                         ...\n",
       "CINNAMON THE FLAVOR OF INDIA - CAPITAL CENTRE                11\n",
       "BUTTERBEAN LIMITED                                           11\n",
       "BRACKENHURST KENYA                                           11\n",
       "PIONEER INTERNATIONAL UNIVERSITY                             11\n",
       "MA CUISINE LTD                                               11\n",
       "\n",
       "[191 rows x 1 columns]"
      ]
     },
     "execution_count": 38,
     "metadata": {},
     "output_type": "execute_result"
    }
   ],
   "source": [
    "target_customers"
   ]
  },
  {
   "cell_type": "code",
   "execution_count": 39,
   "metadata": {},
   "outputs": [
    {
     "name": "stdout",
     "output_type": "stream",
     "text": [
      "Number of target customers: 191\n"
     ]
    }
   ],
   "source": [
    "num_target_customers = target_customers.shape[0]\n",
    "print(\"Number of target customers:\", num_target_customers)"
   ]
  },
  {
   "cell_type": "markdown",
   "metadata": {},
   "source": [
    "**USING GOOGLE MAPS API TO LOCATE THE TARGET CUSTOMERS AND GET THEIR CONTACTS**"
   ]
  },
  {
   "cell_type": "code",
   "execution_count": 40,
   "metadata": {},
   "outputs": [],
   "source": [
    "target_customers_list = target_customers.index.tolist()\n",
    "# target_customers_list"
   ]
  },
  {
   "cell_type": "code",
   "execution_count": 41,
   "metadata": {},
   "outputs": [
    {
     "ename": "ValueError",
     "evalue": "Invalid API key provided.",
     "output_type": "error",
     "traceback": [
      "\u001b[1;31m---------------------------------------------------------------------------\u001b[0m",
      "\u001b[1;31mValueError\u001b[0m                                Traceback (most recent call last)",
      "\u001b[1;32m<ipython-input-41-5f93e2d4df6e>\u001b[0m in \u001b[0;36m<module>\u001b[1;34m\u001b[0m\n\u001b[0;32m      4\u001b[0m \u001b[1;33m\u001b[0m\u001b[0m\n\u001b[0;32m      5\u001b[0m \u001b[1;31m# Initialize the Google Maps client\u001b[0m\u001b[1;33m\u001b[0m\u001b[1;33m\u001b[0m\u001b[1;33m\u001b[0m\u001b[0m\n\u001b[1;32m----> 6\u001b[1;33m \u001b[0mgmaps\u001b[0m \u001b[1;33m=\u001b[0m \u001b[0mgooglemaps\u001b[0m\u001b[1;33m.\u001b[0m\u001b[0mClient\u001b[0m\u001b[1;33m(\u001b[0m\u001b[0mkey\u001b[0m\u001b[1;33m=\u001b[0m\u001b[1;34m'API_KEY'\u001b[0m\u001b[1;33m)\u001b[0m\u001b[1;33m\u001b[0m\u001b[1;33m\u001b[0m\u001b[0m\n\u001b[0m\u001b[0;32m      7\u001b[0m \u001b[1;33m\u001b[0m\u001b[0m\n\u001b[0;32m      8\u001b[0m \u001b[1;31m# Create empty lists for the address, geolocation, phone number, email, and opening hours data\u001b[0m\u001b[1;33m\u001b[0m\u001b[1;33m\u001b[0m\u001b[1;33m\u001b[0m\u001b[0m\n",
      "\u001b[1;32m~\\anaconda3\\envs\\learn-env\\lib\\site-packages\\googlemaps\\client.py\u001b[0m in \u001b[0;36m__init__\u001b[1;34m(self, key, client_id, client_secret, timeout, connect_timeout, read_timeout, retry_timeout, requests_kwargs, queries_per_second, queries_per_minute, channel, retry_over_query_limit, experience_id, requests_session, base_url)\u001b[0m\n\u001b[0;32m    142\u001b[0m \u001b[1;33m\u001b[0m\u001b[0m\n\u001b[0;32m    143\u001b[0m         \u001b[1;32mif\u001b[0m \u001b[0mkey\u001b[0m \u001b[1;32mand\u001b[0m \u001b[1;32mnot\u001b[0m \u001b[0mkey\u001b[0m\u001b[1;33m.\u001b[0m\u001b[0mstartswith\u001b[0m\u001b[1;33m(\u001b[0m\u001b[1;34m\"AIza\"\u001b[0m\u001b[1;33m)\u001b[0m\u001b[1;33m:\u001b[0m\u001b[1;33m\u001b[0m\u001b[1;33m\u001b[0m\u001b[0m\n\u001b[1;32m--> 144\u001b[1;33m             \u001b[1;32mraise\u001b[0m \u001b[0mValueError\u001b[0m\u001b[1;33m(\u001b[0m\u001b[1;34m\"Invalid API key provided.\"\u001b[0m\u001b[1;33m)\u001b[0m\u001b[1;33m\u001b[0m\u001b[1;33m\u001b[0m\u001b[0m\n\u001b[0m\u001b[0;32m    145\u001b[0m \u001b[1;33m\u001b[0m\u001b[0m\n\u001b[0;32m    146\u001b[0m         \u001b[1;32mif\u001b[0m \u001b[0mchannel\u001b[0m\u001b[1;33m:\u001b[0m\u001b[1;33m\u001b[0m\u001b[1;33m\u001b[0m\u001b[0m\n",
      "\u001b[1;31mValueError\u001b[0m: Invalid API key provided."
     ]
    }
   ],
   "source": [
    "# Using the google maps api to retrieve information such as location and contacts of the target customers\n",
    "\n",
    "import googlemaps\n",
    "\n",
    "# Initialize the Google Maps client\n",
    "gmaps = googlemaps.Client(key='API_KEY')\n",
    "\n",
    "# Create empty lists for the address, geolocation, phone number, email, and opening hours data\n",
    "addresses = []\n",
    "latitudes = []\n",
    "longitudes = []\n",
    "phone_numbers = []\n",
    "websites = []\n",
    "opening_hours = []\n",
    "\n",
    "# Loop through the data and retrieve the address, geolocation, phone number, email, and opening hours for each place name\n",
    "for place in target_customers_list:\n",
    "    try:\n",
    "        # Get the place details using Google Maps API\n",
    "        geocode_result = gmaps.geocode(place)\n",
    "        \n",
    "        if geocode_result:\n",
    "            # Extract the relevant information from the geocode result\n",
    "            formatted_address = geocode_result[0]['formatted_address']\n",
    "            location = geocode_result[0]['geometry']['location']\n",
    "            \n",
    "            # Retrieve additional details using the place_id\n",
    "            place_id = geocode_result[0]['place_id']\n",
    "            place_details = gmaps.place(place_id=place_id, fields=['formatted_phone_number', 'website', 'opening_hours'])\n",
    "            \n",
    "            phone_number = place_details['result'].get('formatted_phone_number')\n",
    "            website = place_details['result'].get('website')\n",
    "            opening_hour = place_details['result'].get('opening_hours')\n",
    "            \n",
    "            # Append the data to the respective lists\n",
    "            addresses.append(formatted_address)\n",
    "            latitudes.append(location['lat'])\n",
    "            longitudes.append(location['lng'])\n",
    "            phone_numbers.append(phone_number)\n",
    "            websites.append(website)\n",
    "            opening_hours.append(opening_hour)\n",
    "        else:\n",
    "            # If the geocode result is empty, set the values to None\n",
    "            addresses.append(None)\n",
    "            latitudes.append(None)\n",
    "            longitudes.append(None)\n",
    "            phone_numbers.append(None)\n",
    "            websites.append(None)\n",
    "            opening_hours.append(None)\n",
    "    except:\n",
    "        # If an error occurs, set the values to None\n",
    "        addresses.append(None)\n",
    "        latitudes.append(None)\n",
    "        longitudes.append(None)\n",
    "        phone_numbers.append(None)\n",
    "        websites.append(None)\n",
    "        opening_hours.append(None)\n"
   ]
  },
  {
   "cell_type": "code",
   "execution_count": null,
   "metadata": {},
   "outputs": [],
   "source": [
    "# Using the latitude and longitude coordinates to get the location on the coordinates\n",
    "\n",
    "import googlemaps\n",
    "\n",
    "# Initialize the Google Maps client\n",
    "gmaps = googlemaps.Client(key='API_KEY')\n",
    "\n",
    "# Create empty lists for the location details\n",
    "locations = []\n",
    "\n",
    "# Loop through the latitudes and longitudes\n",
    "for lat, lng in zip(latitudes, longitudes):\n",
    "    try:\n",
    "        # Reverse geocode the latitude and longitude\n",
    "        reverse_geocode_result = gmaps.reverse_geocode((lat, lng))\n",
    "        \n",
    "        if reverse_geocode_result:\n",
    "            # Get the formatted address from the result\n",
    "            formatted_address = reverse_geocode_result[0]['formatted_address']\n",
    "            # Append the location details to the list\n",
    "            locations.append(formatted_address)\n",
    "        else:\n",
    "            # If the reverse geocode result is empty, append None\n",
    "            locations.append(None)\n",
    "    except:\n",
    "        # If an error occurs, append None\n",
    "        locations.append(None)\n",
    "\n",
    "# Create a DataFrame with the latitudes, longitudes, and locations\n",
    "# location_df = pd.DataFrame({'Latitude': latitudes, 'Longitude': longitudes, 'Location': locations})\n",
    "\n",
    "# Display the DataFrame\n",
    "# location_df\n"
   ]
  },
  {
   "cell_type": "code",
   "execution_count": null,
   "metadata": {},
   "outputs": [],
   "source": [
    "# Create a dictionary from the lists that will enable me to create the dataframe\n",
    "data = {\n",
    "    'Customer': target_customers_list,\n",
    "    'Address': addresses,\n",
    "    'Latitude': latitudes,\n",
    "    'Longitude': longitudes,\n",
    "    'Location': locations,\n",
    "    'Phone Number': phone_numbers,\n",
    "    'Website': websites,\n",
    "    'Opening Hours': opening_hours\n",
    "}\n",
    "\n",
    "# Create the DataFrame\n",
    "dataf = pd.DataFrame(data)\n",
    "\n",
    "# Print the DataFrame\n",
    "dataf\n"
   ]
  },
  {
   "cell_type": "markdown",
   "metadata": {},
   "source": [
    "After converting the dataframe to an excel, I will clean the data to use in further analysis."
   ]
  },
  {
   "cell_type": "code",
   "execution_count": null,
   "metadata": {},
   "outputs": [],
   "source": [
    "# Loading the excel file\n",
    "target_cust_df = pd.read_excel('C:/Users/ADMIN/Desktop/BULKBOX WORK/prediction-model/Target_customers_with_locations_contacts.xlsx')"
   ]
  },
  {
   "cell_type": "code",
   "execution_count": null,
   "metadata": {},
   "outputs": [],
   "source": [
    "target_cust_df.head()"
   ]
  },
  {
   "cell_type": "code",
   "execution_count": null,
   "metadata": {},
   "outputs": [],
   "source": [
    "# Looking at the data info\n",
    "target_cust_df.info()"
   ]
  },
  {
   "cell_type": "code",
   "execution_count": null,
   "metadata": {},
   "outputs": [],
   "source": [
    "# Only retriving the customers whose lat and long are non-null\n",
    "\n",
    "target_cust_df.isna().sum()"
   ]
  },
  {
   "cell_type": "code",
   "execution_count": null,
   "metadata": {},
   "outputs": [],
   "source": [
    "target_cust_df.dropna(subset=['Latitude'], inplace=True)"
   ]
  },
  {
   "cell_type": "code",
   "execution_count": null,
   "metadata": {},
   "outputs": [],
   "source": [
    "target_cust_df.isna().sum()"
   ]
  },
  {
   "cell_type": "code",
   "execution_count": null,
   "metadata": {},
   "outputs": [],
   "source": [
    "# Creating an excel file from the cleaned data\n",
    "\n",
    "target_cust_df.to_excel('Cleaned_Target_customers_with_locations.xlsx', index=True)"
   ]
  },
  {
   "cell_type": "markdown",
   "metadata": {},
   "source": [
    " **GETTING THE LOCATIONS THAT ARE 10KM FROM UNGA HOUSE**"
   ]
  },
  {
   "cell_type": "code",
   "execution_count": null,
   "metadata": {},
   "outputs": [],
   "source": [
    "# Getting the location of Unga House\n",
    "\n",
    "import googlemaps\n",
    "\n",
    "# Replace 'YOUR_API_KEY' with your actual Google Maps API key\n",
    "gmaps = googlemaps.Client(key='API_KEY')\n",
    "\n",
    "# Place name you want to find the latitude and longitude for\n",
    "place_name = 'Unga House, Nairobi, Kenya'\n",
    "\n",
    "try:\n",
    "    # Get the geocode result for the place\n",
    "    geocode_result = gmaps.geocode(place_name)\n",
    "\n",
    "    if geocode_result:\n",
    "        # Extract latitude and longitude\n",
    "        latitude = geocode_result[0]['geometry']['location']['lat']\n",
    "        longitude = geocode_result[0]['geometry']['location']['lng']\n",
    "        print(f\"Latitude: {latitude}, Longitude: {longitude}\")\n",
    "    else:\n",
    "        print(\"No results found for the specified place.\")\n",
    "except Exception as e:\n",
    "    print(f\"Error: {e}\")\n"
   ]
  },
  {
   "cell_type": "code",
   "execution_count": null,
   "metadata": {},
   "outputs": [],
   "source": [
    "# Using the lat and long of unga house as the reference point to calculate the distance.\n",
    "# I will use the haversine formula to locate the customers in the radius of 10km.\n",
    "\n",
    "from math import radians, sin, cos, sqrt, atan2\n",
    "\n",
    "# Define the latitude and longitude of the reference location\n",
    "reference_latitude = radians(-1.2630472)   \n",
    "reference_longitude = radians(36.8047358)  \n",
    "\n",
    "# Loading the DataFrame containing the target customers' data with their latitudes and longitudes\n",
    "data = pd.read_excel('C:/Users/ADMIN/Desktop/BULKBOX WORK/prediction-model/Cleaned_Target_customers_with_locations.xlsx')\n",
    "\n",
    "# Creating a function to calculate the haversine distance between two points\n",
    "def haversine(lat1, lon1, lat2, lon2):\n",
    "    R = 6371.0  # Radius of the Earth in kilometers\n",
    "\n",
    "    dlat = lat2 - lat1\n",
    "    dlon = lon2 - lon1\n",
    "\n",
    "    a = sin(dlat / 2)**2 + cos(lat1) * cos(lat2) * sin(dlon / 2)**2\n",
    "    c = 2 * atan2(sqrt(a), sqrt(1 - a))\n",
    "\n",
    "    distance = R * c\n",
    "    return distance\n",
    "\n",
    "# Calculating the distance for each target customer and creating a new 'Distance' column in the DataFrame\n",
    "data['Distance'] = data.apply(lambda row: haversine(reference_latitude, reference_longitude, radians(row['Latitude']), radians(row['Longitude'])), axis=1)\n",
    "\n",
    "# Filtering the target customers within the 10 km radius\n",
    "radius_km = 10\n",
    "filtered_customers = data[data['Distance'] <= radius_km].copy()\n",
    "\n",
    "# Dropping the temporary 'Distance' column if not needed\n",
    "# filtered_customers.drop('Distance', axis=1, inplace=True)"
   ]
  },
  {
   "cell_type": "code",
   "execution_count": null,
   "metadata": {},
   "outputs": [],
   "source": [
    "filtered_customers"
   ]
  },
  {
   "cell_type": "code",
   "execution_count": null,
   "metadata": {},
   "outputs": [],
   "source": [
    "# dropping the unnamed column\n",
    "\n",
    "# filtered_customers.set_index('Customer', inplace=True)\n",
    "filtered_customers.drop('Unnamed: 0', axis=1, inplace=True)"
   ]
  },
  {
   "cell_type": "code",
   "execution_count": null,
   "metadata": {},
   "outputs": [],
   "source": [
    "filtered_customers"
   ]
  },
  {
   "cell_type": "code",
   "execution_count": null,
   "metadata": {},
   "outputs": [],
   "source": [
    "# Saving the filtered customers to a new Excel file\n",
    "\n",
    "filtered_customers.to_excel('Target_customers_within_10km.xlsx', index=False)"
   ]
  },
  {
   "cell_type": "code",
   "execution_count": null,
   "metadata": {},
   "outputs": [],
   "source": []
  }
 ],
 "metadata": {
  "kernelspec": {
   "display_name": "Python 3",
   "language": "python",
   "name": "python3"
  },
  "language_info": {
   "codemirror_mode": {
    "name": "ipython",
    "version": 3
   },
   "file_extension": ".py",
   "mimetype": "text/x-python",
   "name": "python",
   "nbconvert_exporter": "python",
   "pygments_lexer": "ipython3",
   "version": "3.8.5"
  }
 },
 "nbformat": 4,
 "nbformat_minor": 4
}
